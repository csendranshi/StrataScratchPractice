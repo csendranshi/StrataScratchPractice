{
 "cells": [
  {
   "cell_type": "markdown",
   "id": "4b637ca1",
   "metadata": {},
   "source": [
    "## Website Traffic Analysis by Anshika Gupta\n",
    "\n",
    "question link: https://platform.stratascratch.com/data-projects/website-traffic-analysis\n",
    "\n",
    "The goal of this project is to understand this traffic better, in particular the volume and distribution of events, and to develop ideas how to increase the links' clickrates. With that in mind, please analyze the data using the Python libraries Pandas and SciPy where indicated, providing answers to the presented questions:\n",
    "\n",
    "[Pandas] How many total pageview events did the links in the provided dataset receive in the full period, how many per day?\n",
    "\n",
    "[Pandas] What about the other recorded events?\n",
    "\n",
    "[Pandas] Which countries did the pageviews come from?\n",
    "\n",
    "[Pandas] What was the overall click rate (clicks/pageviews)?\n",
    "\n",
    "[Pandas] How does the clickrate distribute across different links?\n",
    "\n",
    "[Pandas & SciPy] Is there any correlation between clicks and previews on a link? Is it significant? How large is the effect? Make sure to at least test for potential linear as well as categorical (think binary) relationships between both variables.\n",
    "\n",
    "### Data Description\n",
    "\n",
    "The data set provided (traffic.csv) contains web traffic data (\"events\") from a few different pages (\"links\") over a period of 7 days including various categorical dimensions about the geographic origin of that traffic as well as a page's content: isrc."
   ]
  },
  {
   "cell_type": "code",
   "execution_count": 226,
   "id": "45dc6c6f",
   "metadata": {},
   "outputs": [],
   "source": [
    "import pandas as pd\n",
    "import numpy as np\n",
    "import matplotlib.pyplot as plt\n",
    "import seaborn as sb "
   ]
  },
  {
   "cell_type": "code",
   "execution_count": 224,
   "id": "9d43480f",
   "metadata": {},
   "outputs": [
    {
     "data": {
      "text/html": [
       "<div>\n",
       "<style scoped>\n",
       "    .dataframe tbody tr th:only-of-type {\n",
       "        vertical-align: middle;\n",
       "    }\n",
       "\n",
       "    .dataframe tbody tr th {\n",
       "        vertical-align: top;\n",
       "    }\n",
       "\n",
       "    .dataframe thead th {\n",
       "        text-align: right;\n",
       "    }\n",
       "</style>\n",
       "<table border=\"1\" class=\"dataframe\">\n",
       "  <thead>\n",
       "    <tr style=\"text-align: right;\">\n",
       "      <th></th>\n",
       "      <th>event</th>\n",
       "      <th>date</th>\n",
       "      <th>country</th>\n",
       "      <th>city</th>\n",
       "      <th>artist</th>\n",
       "      <th>album</th>\n",
       "      <th>track</th>\n",
       "      <th>isrc</th>\n",
       "      <th>linkid</th>\n",
       "    </tr>\n",
       "  </thead>\n",
       "  <tbody>\n",
       "    <tr>\n",
       "      <th>0</th>\n",
       "      <td>click</td>\n",
       "      <td>2021-08-21</td>\n",
       "      <td>Saudi Arabia</td>\n",
       "      <td>Jeddah</td>\n",
       "      <td>Tesher</td>\n",
       "      <td>Jalebi Baby</td>\n",
       "      <td>Jalebi Baby</td>\n",
       "      <td>QZNWQ2070741</td>\n",
       "      <td>2d896d31-97b6-4869-967b-1c5fb9cd4bb8</td>\n",
       "    </tr>\n",
       "    <tr>\n",
       "      <th>1</th>\n",
       "      <td>click</td>\n",
       "      <td>2021-08-21</td>\n",
       "      <td>Saudi Arabia</td>\n",
       "      <td>Jeddah</td>\n",
       "      <td>Tesher</td>\n",
       "      <td>Jalebi Baby</td>\n",
       "      <td>Jalebi Baby</td>\n",
       "      <td>QZNWQ2070741</td>\n",
       "      <td>2d896d31-97b6-4869-967b-1c5fb9cd4bb8</td>\n",
       "    </tr>\n",
       "    <tr>\n",
       "      <th>2</th>\n",
       "      <td>click</td>\n",
       "      <td>2021-08-21</td>\n",
       "      <td>India</td>\n",
       "      <td>Ludhiana</td>\n",
       "      <td>Reyanna Maria</td>\n",
       "      <td>So Pretty</td>\n",
       "      <td>So Pretty</td>\n",
       "      <td>USUM72100871</td>\n",
       "      <td>23199824-9cf5-4b98-942a-34965c3b0cc2</td>\n",
       "    </tr>\n",
       "    <tr>\n",
       "      <th>3</th>\n",
       "      <td>click</td>\n",
       "      <td>2021-08-21</td>\n",
       "      <td>France</td>\n",
       "      <td>Unknown</td>\n",
       "      <td>Simone &amp; Simaria, Sebastian Yatra</td>\n",
       "      <td>No Llores Más</td>\n",
       "      <td>No Llores Más</td>\n",
       "      <td>BRUM72003904</td>\n",
       "      <td>35573248-4e49-47c7-af80-08a960fa74cd</td>\n",
       "    </tr>\n",
       "    <tr>\n",
       "      <th>4</th>\n",
       "      <td>click</td>\n",
       "      <td>2021-08-21</td>\n",
       "      <td>Maldives</td>\n",
       "      <td>Malé</td>\n",
       "      <td>Tesher</td>\n",
       "      <td>Jalebi Baby</td>\n",
       "      <td>Jalebi Baby</td>\n",
       "      <td>QZNWQ2070741</td>\n",
       "      <td>2d896d31-97b6-4869-967b-1c5fb9cd4bb8</td>\n",
       "    </tr>\n",
       "    <tr>\n",
       "      <th>...</th>\n",
       "      <td>...</td>\n",
       "      <td>...</td>\n",
       "      <td>...</td>\n",
       "      <td>...</td>\n",
       "      <td>...</td>\n",
       "      <td>...</td>\n",
       "      <td>...</td>\n",
       "      <td>...</td>\n",
       "      <td>...</td>\n",
       "    </tr>\n",
       "    <tr>\n",
       "      <th>226273</th>\n",
       "      <td>pageview</td>\n",
       "      <td>2021-08-24</td>\n",
       "      <td>Kuwait</td>\n",
       "      <td>Kuwait City</td>\n",
       "      <td>Sean Paul</td>\n",
       "      <td>The Trinity</td>\n",
       "      <td>Temperature</td>\n",
       "      <td>USAT20505520</td>\n",
       "      <td>04ba6b17-1055-4f0e-a75e-3cdb0d0d4106</td>\n",
       "    </tr>\n",
       "    <tr>\n",
       "      <th>226274</th>\n",
       "      <td>pageview</td>\n",
       "      <td>2021-08-24</td>\n",
       "      <td>India</td>\n",
       "      <td>Chennai</td>\n",
       "      <td>Miscél</td>\n",
       "      <td>when you left</td>\n",
       "      <td>when you left</td>\n",
       "      <td>QM42K1907890</td>\n",
       "      <td>2fc15e8b-83aa-40ee-9f9d-5d96c6d4356c</td>\n",
       "    </tr>\n",
       "    <tr>\n",
       "      <th>226275</th>\n",
       "      <td>pageview</td>\n",
       "      <td>2021-08-24</td>\n",
       "      <td>India</td>\n",
       "      <td>Jaipur</td>\n",
       "      <td>Trippie Redd, Lil Uzi Vert</td>\n",
       "      <td>Holy Smokes (feat. Lil Uzi Vert)</td>\n",
       "      <td>Holy Smokes</td>\n",
       "      <td>QZJ842001118</td>\n",
       "      <td>eedc8702-6bd2-499a-972f-260c35f72e0f</td>\n",
       "    </tr>\n",
       "    <tr>\n",
       "      <th>226276</th>\n",
       "      <td>pageview</td>\n",
       "      <td>2021-08-24</td>\n",
       "      <td>France</td>\n",
       "      <td>Unknown</td>\n",
       "      <td>Young Thug</td>\n",
       "      <td>Tick Tock</td>\n",
       "      <td>Tick Tock</td>\n",
       "      <td>USAT22104514</td>\n",
       "      <td>e0a76dc3-7ccd-405f-8ee8-a2c55c0e0ed2</td>\n",
       "    </tr>\n",
       "    <tr>\n",
       "      <th>226277</th>\n",
       "      <td>pageview</td>\n",
       "      <td>2021-08-24</td>\n",
       "      <td>Iraq</td>\n",
       "      <td>Duhok</td>\n",
       "      <td>Tesher</td>\n",
       "      <td>Jalebi Baby</td>\n",
       "      <td>Jalebi Baby</td>\n",
       "      <td>QZNWQ2070741</td>\n",
       "      <td>2d896d31-97b6-4869-967b-1c5fb9cd4bb8</td>\n",
       "    </tr>\n",
       "  </tbody>\n",
       "</table>\n",
       "<p>226278 rows × 9 columns</p>\n",
       "</div>"
      ],
      "text/plain": [
       "           event        date       country         city  \\\n",
       "0          click  2021-08-21  Saudi Arabia       Jeddah   \n",
       "1          click  2021-08-21  Saudi Arabia       Jeddah   \n",
       "2          click  2021-08-21         India     Ludhiana   \n",
       "3          click  2021-08-21        France      Unknown   \n",
       "4          click  2021-08-21      Maldives         Malé   \n",
       "...          ...         ...           ...          ...   \n",
       "226273  pageview  2021-08-24        Kuwait  Kuwait City   \n",
       "226274  pageview  2021-08-24         India      Chennai   \n",
       "226275  pageview  2021-08-24         India       Jaipur   \n",
       "226276  pageview  2021-08-24        France      Unknown   \n",
       "226277  pageview  2021-08-24          Iraq        Duhok   \n",
       "\n",
       "                                   artist                             album  \\\n",
       "0                                  Tesher                       Jalebi Baby   \n",
       "1                                  Tesher                       Jalebi Baby   \n",
       "2                           Reyanna Maria                         So Pretty   \n",
       "3       Simone & Simaria, Sebastian Yatra                     No Llores Más   \n",
       "4                                  Tesher                       Jalebi Baby   \n",
       "...                                   ...                               ...   \n",
       "226273                          Sean Paul                       The Trinity   \n",
       "226274                             Miscél                     when you left   \n",
       "226275         Trippie Redd, Lil Uzi Vert  Holy Smokes (feat. Lil Uzi Vert)   \n",
       "226276                         Young Thug                         Tick Tock   \n",
       "226277                             Tesher                       Jalebi Baby   \n",
       "\n",
       "                track          isrc                                linkid  \n",
       "0         Jalebi Baby  QZNWQ2070741  2d896d31-97b6-4869-967b-1c5fb9cd4bb8  \n",
       "1         Jalebi Baby  QZNWQ2070741  2d896d31-97b6-4869-967b-1c5fb9cd4bb8  \n",
       "2           So Pretty  USUM72100871  23199824-9cf5-4b98-942a-34965c3b0cc2  \n",
       "3       No Llores Más  BRUM72003904  35573248-4e49-47c7-af80-08a960fa74cd  \n",
       "4         Jalebi Baby  QZNWQ2070741  2d896d31-97b6-4869-967b-1c5fb9cd4bb8  \n",
       "...               ...           ...                                   ...  \n",
       "226273    Temperature  USAT20505520  04ba6b17-1055-4f0e-a75e-3cdb0d0d4106  \n",
       "226274  when you left  QM42K1907890  2fc15e8b-83aa-40ee-9f9d-5d96c6d4356c  \n",
       "226275    Holy Smokes  QZJ842001118  eedc8702-6bd2-499a-972f-260c35f72e0f  \n",
       "226276      Tick Tock  USAT22104514  e0a76dc3-7ccd-405f-8ee8-a2c55c0e0ed2  \n",
       "226277    Jalebi Baby  QZNWQ2070741  2d896d31-97b6-4869-967b-1c5fb9cd4bb8  \n",
       "\n",
       "[226278 rows x 9 columns]"
      ]
     },
     "execution_count": 224,
     "metadata": {},
     "output_type": "execute_result"
    }
   ],
   "source": [
    "df = pd.read_csv(\"traffic.csv\")\n",
    "df"
   ]
  },
  {
   "cell_type": "code",
   "execution_count": 221,
   "id": "82c77492",
   "metadata": {},
   "outputs": [
    {
     "data": {
      "text/plain": [
       "Index(['event', 'date', 'country', 'city', 'artist', 'album', 'track', 'isrc',\n",
       "       'linkid'],\n",
       "      dtype='object')"
      ]
     },
     "execution_count": 221,
     "metadata": {},
     "output_type": "execute_result"
    }
   ],
   "source": [
    "df.columns"
   ]
  },
  {
   "cell_type": "code",
   "execution_count": 67,
   "id": "e6f4cefa",
   "metadata": {},
   "outputs": [
    {
     "name": "stdout",
     "output_type": "stream",
     "text": [
      "<class 'pandas.core.frame.DataFrame'>\n",
      "RangeIndex: 226278 entries, 0 to 226277\n",
      "Data columns (total 9 columns):\n",
      " #   Column   Non-Null Count   Dtype \n",
      "---  ------   --------------   ----- \n",
      " 0   event    226278 non-null  object\n",
      " 1   date     226278 non-null  object\n",
      " 2   country  226267 non-null  object\n",
      " 3   city     226267 non-null  object\n",
      " 4   artist   226241 non-null  object\n",
      " 5   album    226273 non-null  object\n",
      " 6   track    226273 non-null  object\n",
      " 7   isrc     219157 non-null  object\n",
      " 8   linkid   226278 non-null  object\n",
      "dtypes: object(9)\n",
      "memory usage: 15.5+ MB\n"
     ]
    }
   ],
   "source": [
    "df.info()"
   ]
  },
  {
   "cell_type": "code",
   "execution_count": 68,
   "id": "506bdf33",
   "metadata": {},
   "outputs": [],
   "source": [
    "df['date'] = pd.to_datetime(df['date'])"
   ]
  },
  {
   "cell_type": "code",
   "execution_count": 73,
   "id": "c295c4fa",
   "metadata": {},
   "outputs": [
    {
     "data": {
      "text/plain": [
       "event      0\n",
       "date       0\n",
       "country    0\n",
       "city       0\n",
       "artist     0\n",
       "album      0\n",
       "track      0\n",
       "isrc       0\n",
       "linkid     0\n",
       "dtype: int64"
      ]
     },
     "execution_count": 73,
     "metadata": {},
     "output_type": "execute_result"
    }
   ],
   "source": [
    "df.isna().sum()"
   ]
  },
  {
   "cell_type": "markdown",
   "id": "71659dee",
   "metadata": {},
   "source": [
    "### Data Imputation\n",
    "\n",
    "Given the size of the dataset and the sum of null values, I choose to use dropna as it is not significantly impacting our given dataset record count."
   ]
  },
  {
   "cell_type": "code",
   "execution_count": 70,
   "id": "fb2f845f",
   "metadata": {},
   "outputs": [],
   "source": [
    "df.isrc.fillna(-1, inplace=True)"
   ]
  },
  {
   "cell_type": "code",
   "execution_count": 72,
   "id": "b31e8eab",
   "metadata": {},
   "outputs": [],
   "source": [
    "df = df.dropna()"
   ]
  },
  {
   "cell_type": "markdown",
   "id": "7719b0a1",
   "metadata": {},
   "source": [
    "### 1. How many total pageview events did the links in the provided dataset receive in the full period, how many per day?"
   ]
  },
  {
   "cell_type": "code",
   "execution_count": 198,
   "id": "bcdba365",
   "metadata": {},
   "outputs": [
    {
     "data": {
      "text/plain": [
       "event\n",
       "pageview    141980\n",
       "click        55720\n",
       "preview      28530\n",
       "Name: count, dtype: int64"
      ]
     },
     "execution_count": 198,
     "metadata": {},
     "output_type": "execute_result"
    }
   ],
   "source": [
    "c = df.event.value_counts()\n",
    "c"
   ]
  },
  {
   "cell_type": "code",
   "execution_count": 121,
   "id": "efdb3974",
   "metadata": {},
   "outputs": [
    {
     "data": {
      "text/html": [
       "<div>\n",
       "<style scoped>\n",
       "    .dataframe tbody tr th:only-of-type {\n",
       "        vertical-align: middle;\n",
       "    }\n",
       "\n",
       "    .dataframe tbody tr th {\n",
       "        vertical-align: top;\n",
       "    }\n",
       "\n",
       "    .dataframe thead th {\n",
       "        text-align: right;\n",
       "    }\n",
       "</style>\n",
       "<table border=\"1\" class=\"dataframe\">\n",
       "  <thead>\n",
       "    <tr style=\"text-align: right;\">\n",
       "      <th></th>\n",
       "      <th></th>\n",
       "      <th>count</th>\n",
       "    </tr>\n",
       "    <tr>\n",
       "      <th>date</th>\n",
       "      <th>event</th>\n",
       "      <th></th>\n",
       "    </tr>\n",
       "  </thead>\n",
       "  <tbody>\n",
       "    <tr>\n",
       "      <th>2021-08-19</th>\n",
       "      <th>pageview</th>\n",
       "      <td>22356</td>\n",
       "    </tr>\n",
       "    <tr>\n",
       "      <th>2021-08-20</th>\n",
       "      <th>pageview</th>\n",
       "      <td>21368</td>\n",
       "    </tr>\n",
       "    <tr>\n",
       "      <th>2021-08-21</th>\n",
       "      <th>pageview</th>\n",
       "      <td>21349</td>\n",
       "    </tr>\n",
       "    <tr>\n",
       "      <th>2021-08-22</th>\n",
       "      <th>pageview</th>\n",
       "      <td>20430</td>\n",
       "    </tr>\n",
       "    <tr>\n",
       "      <th>2021-08-23</th>\n",
       "      <th>pageview</th>\n",
       "      <td>18645</td>\n",
       "    </tr>\n",
       "    <tr>\n",
       "      <th>2021-08-24</th>\n",
       "      <th>pageview</th>\n",
       "      <td>18685</td>\n",
       "    </tr>\n",
       "    <tr>\n",
       "      <th>2021-08-25</th>\n",
       "      <th>pageview</th>\n",
       "      <td>19147</td>\n",
       "    </tr>\n",
       "  </tbody>\n",
       "</table>\n",
       "</div>"
      ],
      "text/plain": [
       "                     count\n",
       "date       event          \n",
       "2021-08-19 pageview  22356\n",
       "2021-08-20 pageview  21368\n",
       "2021-08-21 pageview  21349\n",
       "2021-08-22 pageview  20430\n",
       "2021-08-23 pageview  18645\n",
       "2021-08-24 pageview  18685\n",
       "2021-08-25 pageview  19147"
      ]
     },
     "execution_count": 121,
     "metadata": {},
     "output_type": "execute_result"
    }
   ],
   "source": [
    "perday_pv = pd.DataFrame(df[df.event =='pageview'].groupby('date')['event'].value_counts())\n",
    "perday_pv"
   ]
  },
  {
   "cell_type": "code",
   "execution_count": 122,
   "id": "5852c7ef",
   "metadata": {},
   "outputs": [
    {
     "name": "stdout",
     "output_type": "stream",
     "text": [
      "DatetimeIndex(['2021-08-19', '2021-08-20', '2021-08-21', '2021-08-22',\n",
      "               '2021-08-23', '2021-08-24', '2021-08-25'],\n",
      "              dtype='datetime64[ns]', name='date', freq=None)\n"
     ]
    }
   ],
   "source": [
    "# Extract dates from MultiIndex\n",
    "dates_only = perday_pv.index.get_level_values('date')\n",
    "\n",
    "# Display dates only\n",
    "print(dates_only)\n"
   ]
  },
  {
   "cell_type": "code",
   "execution_count": 123,
   "id": "e3b1645d",
   "metadata": {},
   "outputs": [
    {
     "data": {
      "image/png": "[encoded data removed]",
      "text/plain": [
       "<Figure size 500x300 with 1 Axes>"
      ]
     },
     "metadata": {},
     "output_type": "display_data"
    }
   ],
   "source": [
    "plt.figure(figsize=(5,3))\n",
    "plt.title(\"Pageview events per day\")\n",
    "plt.plot(dates_only, perday_pv.values,'-ro')\n",
    "\n",
    "plt.xticks(rotation=25)\n",
    "plt.xlabel(\"Date\")\n",
    "plt.ylabel(\"No. of events\")\n",
    "plt.show()"
   ]
  },
  {
   "cell_type": "markdown",
   "id": "ff4c7558",
   "metadata": {},
   "source": [
    "### 2. What about the other recorded events? "
   ]
  },
  {
   "cell_type": "code",
   "execution_count": 165,
   "id": "d1514cb0",
   "metadata": {},
   "outputs": [
    {
     "name": "stdout",
     "output_type": "stream",
     "text": [
      "DatetimeIndex(['2021-08-19', '2021-08-20', '2021-08-21', '2021-08-22',\n",
      "               '2021-08-23', '2021-08-24', '2021-08-25'],\n",
      "              dtype='datetime64[ns]', name='date', freq=None)\n",
      "DatetimeIndex(['2021-08-19', '2021-08-20', '2021-08-21', '2021-08-22',\n",
      "               '2021-08-23', '2021-08-24', '2021-08-25'],\n",
      "              dtype='datetime64[ns]', name='date', freq=None)\n"
     ]
    },
    {
     "data": {
      "image/png": "[encoded data removed]",
      "text/plain": [
       "<Figure size 640x480 with 1 Axes>"
      ]
     },
     "metadata": {},
     "output_type": "display_data"
    }
   ],
   "source": [
    "#CLICKS\n",
    "perday_c = pd.DataFrame(df[df.event =='click'].groupby('date')['event'].value_counts())\n",
    "perday_c\n",
    "\n",
    "# Extract dates from MultiIndex\n",
    "dates_only = perday_c.index.get_level_values('date')\n",
    "\n",
    "# Display dates only\n",
    "print(dates_only)\n",
    "\n",
    "\n",
    "#PREVIEW\n",
    "perday_prev = pd.DataFrame(df[df.event =='preview'].groupby('date')['event'].value_counts())\n",
    "perday_prev\n",
    "\n",
    "# Extract dates from MultiIndex\n",
    "dates_only = perday_prev.index.get_level_values('date')\n",
    "\n",
    "# Display dates only\n",
    "print(dates_only)\n",
    "\n",
    "\n",
    "plt.title(\"Other events per day\")\n",
    "plt.plot(dates_only, perday_c.values,'-bo', label='clicks')\n",
    "plt.plot(dates_only, perday_prev.values,'-go', label='previews')\n",
    "plt.legend(loc=\"upper right\")\n",
    "plt.xticks(rotation=30)\n",
    "plt.show()"
   ]
  },
  {
   "cell_type": "markdown",
   "id": "1748482c",
   "metadata": {},
   "source": [
    "### Which countries did the pageviews come from?"
   ]
  },
  {
   "cell_type": "code",
   "execution_count": 177,
   "id": "f852277a",
   "metadata": {},
   "outputs": [
    {
     "data": {
      "text/html": [
       "<div>\n",
       "<style scoped>\n",
       "    .dataframe tbody tr th:only-of-type {\n",
       "        vertical-align: middle;\n",
       "    }\n",
       "\n",
       "    .dataframe tbody tr th {\n",
       "        vertical-align: top;\n",
       "    }\n",
       "\n",
       "    .dataframe thead th {\n",
       "        text-align: right;\n",
       "    }\n",
       "</style>\n",
       "<table border=\"1\" class=\"dataframe\">\n",
       "  <thead>\n",
       "    <tr style=\"text-align: right;\">\n",
       "      <th></th>\n",
       "      <th></th>\n",
       "      <th>count</th>\n",
       "    </tr>\n",
       "    <tr>\n",
       "      <th>country</th>\n",
       "      <th>event</th>\n",
       "      <th></th>\n",
       "    </tr>\n",
       "  </thead>\n",
       "  <tbody>\n",
       "    <tr>\n",
       "      <th>Afghanistan</th>\n",
       "      <th>pageview</th>\n",
       "      <td>2</td>\n",
       "    </tr>\n",
       "    <tr>\n",
       "      <th>Albania</th>\n",
       "      <th>pageview</th>\n",
       "      <td>344</td>\n",
       "    </tr>\n",
       "    <tr>\n",
       "      <th>Algeria</th>\n",
       "      <th>pageview</th>\n",
       "      <td>443</td>\n",
       "    </tr>\n",
       "    <tr>\n",
       "      <th>American Samoa</th>\n",
       "      <th>pageview</th>\n",
       "      <td>3</td>\n",
       "    </tr>\n",
       "    <tr>\n",
       "      <th>Andorra</th>\n",
       "      <th>pageview</th>\n",
       "      <td>2</td>\n",
       "    </tr>\n",
       "    <tr>\n",
       "      <th>...</th>\n",
       "      <th>...</th>\n",
       "      <td>...</td>\n",
       "    </tr>\n",
       "    <tr>\n",
       "      <th>Wallis and Futuna</th>\n",
       "      <th>pageview</th>\n",
       "      <td>1</td>\n",
       "    </tr>\n",
       "    <tr>\n",
       "      <th>Yemen</th>\n",
       "      <th>pageview</th>\n",
       "      <td>49</td>\n",
       "    </tr>\n",
       "    <tr>\n",
       "      <th>Zambia</th>\n",
       "      <th>pageview</th>\n",
       "      <td>68</td>\n",
       "    </tr>\n",
       "    <tr>\n",
       "      <th>Zimbabwe</th>\n",
       "      <th>pageview</th>\n",
       "      <td>18</td>\n",
       "    </tr>\n",
       "    <tr>\n",
       "      <th>Åland</th>\n",
       "      <th>pageview</th>\n",
       "      <td>4</td>\n",
       "    </tr>\n",
       "  </tbody>\n",
       "</table>\n",
       "<p>211 rows × 1 columns</p>\n",
       "</div>"
      ],
      "text/plain": [
       "                            count\n",
       "country           event          \n",
       "Afghanistan       pageview      2\n",
       "Albania           pageview    344\n",
       "Algeria           pageview    443\n",
       "American Samoa    pageview      3\n",
       "Andorra           pageview      2\n",
       "...                           ...\n",
       "Wallis and Futuna pageview      1\n",
       "Yemen             pageview     49\n",
       "Zambia            pageview     68\n",
       "Zimbabwe          pageview     18\n",
       "Åland             pageview      4\n",
       "\n",
       "[211 rows x 1 columns]"
      ]
     },
     "execution_count": 177,
     "metadata": {},
     "output_type": "execute_result"
    }
   ],
   "source": [
    "pv_country = pd.DataFrame(df[df.event =='pageview'].groupby('country')['event'].value_counts())\n",
    "pv_country"
   ]
  },
  {
   "cell_type": "code",
   "execution_count": 186,
   "id": "e6f91fca",
   "metadata": {},
   "outputs": [],
   "source": [
    "pv_country = pv_country.sort_values('count', ascending=False)"
   ]
  },
  {
   "cell_type": "code",
   "execution_count": 197,
   "id": "9883b89f",
   "metadata": {},
   "outputs": [
    {
     "name": "stdout",
     "output_type": "stream",
     "text": [
      "Index(['Saudi Arabia', 'India', 'United States', 'France', 'Iraq',\n",
      "       'United Kingdom', 'Pakistan', 'Germany', 'Turkey',\n",
      "       'United Arab Emirates',\n",
      "       ...\n",
      "       'Samoa', 'Sint Maarten', 'Guinea-Bissau', 'Guernsey', 'Lesotho',\n",
      "       'Central African Republic', 'Wallis and Futuna',\n",
      "       'Principality of Monaco', 'Saint Martin', 'Solomon Islands'],\n",
      "      dtype='object', name='country', length=211)\n"
     ]
    },
    {
     "data": {
      "image/png": "[encoded data removed]",
      "text/plain": [
       "<Figure size 500x400 with 1 Axes>"
      ]
     },
     "metadata": {},
     "output_type": "display_data"
    }
   ],
   "source": [
    "# Extract dates from MultiIndex\n",
    "countries = pv_country.index.get_level_values('country')\n",
    "\n",
    "# Display dates only\n",
    "print(countries)\n",
    "\n",
    "plt.figure(figsize=(5,4))\n",
    "plt.title(\"Pageview events per day\")\n",
    "plt.plot(pv_country.values[:20],countries[:20],'-ro')\n",
    "\n",
    "# plt.xticks(rotation=90)\n",
    "plt.xlabel(\"Events\")\n",
    "plt.ylabel(\"Countries\")\n",
    "\n",
    "plt.gca().invert_yaxis()\n",
    "plt.show()"
   ]
  },
  {
   "cell_type": "markdown",
   "id": "c7e41736",
   "metadata": {},
   "source": [
    "### 4. What was the overall click rate (clicks/pageviews)?"
   ]
  },
  {
   "cell_type": "code",
   "execution_count": 199,
   "id": "c380f2cf",
   "metadata": {},
   "outputs": [
    {
     "data": {
      "text/plain": [
       "event\n",
       "pageview    141980\n",
       "click        55720\n",
       "preview      28530\n",
       "Name: count, dtype: int64"
      ]
     },
     "execution_count": 199,
     "metadata": {},
     "output_type": "execute_result"
    }
   ],
   "source": [
    "c"
   ]
  },
  {
   "cell_type": "code",
   "execution_count": 201,
   "id": "792a4513",
   "metadata": {},
   "outputs": [
    {
     "data": {
      "text/plain": [
       "0.3924496407944781"
      ]
     },
     "execution_count": 201,
     "metadata": {},
     "output_type": "execute_result"
    }
   ],
   "source": [
    "clickrate = c.click/c.pageview\n",
    "clickrate"
   ]
  },
  {
   "cell_type": "markdown",
   "id": "80f2ead9",
   "metadata": {},
   "source": [
    "### 5. How does the clickrate distribute across different links?"
   ]
  },
  {
   "cell_type": "code",
   "execution_count": 202,
   "id": "1cf0d0df",
   "metadata": {},
   "outputs": [
    {
     "data": {
      "text/plain": [
       "linkid\n",
       "2d896d31-97b6-4869-967b-1c5fb9cd4bb8    40841\n",
       "522da5cc-8177-4140-97a7-a84fdb4caf1c    10314\n",
       "e849515b-929d-44c8-a505-e7622f1827e9     9750\n",
       "c2c876ab-b093-4750-9449-6b4913da6af3     6733\n",
       "681d888a-59ce-4acb-b7c5-95dab0c063d9     5512\n",
       "                                        ...  \n",
       "ff1ec49a-c80e-5bd3-aee3-ac51992b2b63        1\n",
       "7e614c15-2b7f-5155-b27d-fe0b3a849eb4        1\n",
       "e1d532fe-393a-5ecd-9bd0-fbf210af1443        1\n",
       "86d00047-716b-5a55-9344-64aebd8f29e1        1\n",
       "ac33e71b-209d-5503-a276-14ca46372a81        1\n",
       "Name: count, Length: 3822, dtype: int64"
      ]
     },
     "execution_count": 202,
     "metadata": {},
     "output_type": "execute_result"
    }
   ],
   "source": [
    "df.linkid.value_counts()"
   ]
  },
  {
   "cell_type": "code",
   "execution_count": 204,
   "id": "37b92abb",
   "metadata": {},
   "outputs": [
    {
     "data": {
      "text/html": [
       "<div>\n",
       "<style scoped>\n",
       "    .dataframe tbody tr th:only-of-type {\n",
       "        vertical-align: middle;\n",
       "    }\n",
       "\n",
       "    .dataframe tbody tr th {\n",
       "        vertical-align: top;\n",
       "    }\n",
       "\n",
       "    .dataframe thead th {\n",
       "        text-align: right;\n",
       "    }\n",
       "</style>\n",
       "<table border=\"1\" class=\"dataframe\">\n",
       "  <thead>\n",
       "    <tr style=\"text-align: right;\">\n",
       "      <th></th>\n",
       "      <th></th>\n",
       "      <th>count</th>\n",
       "    </tr>\n",
       "    <tr>\n",
       "      <th>linkid</th>\n",
       "      <th>event</th>\n",
       "      <th></th>\n",
       "    </tr>\n",
       "  </thead>\n",
       "  <tbody>\n",
       "    <tr>\n",
       "      <th>00126b32-0c35-507b-981c-02c80d2aa8e7</th>\n",
       "      <th>click</th>\n",
       "      <td>2</td>\n",
       "    </tr>\n",
       "    <tr>\n",
       "      <th>004b9724-abca-5481-b6e9-6148a7ca00a5</th>\n",
       "      <th>click</th>\n",
       "      <td>1</td>\n",
       "    </tr>\n",
       "    <tr>\n",
       "      <th>0063a982-41cd-5629-96d0-e1c4dd72ea11</th>\n",
       "      <th>click</th>\n",
       "      <td>2</td>\n",
       "    </tr>\n",
       "    <tr>\n",
       "      <th>006af6a0-1f0d-4b0c-93bf-756af9071c06</th>\n",
       "      <th>click</th>\n",
       "      <td>8</td>\n",
       "    </tr>\n",
       "    <tr>\n",
       "      <th>00759b81-3f04-4a61-b934-f8fb3185f4a0</th>\n",
       "      <th>click</th>\n",
       "      <td>3</td>\n",
       "    </tr>\n",
       "    <tr>\n",
       "      <th>...</th>\n",
       "      <th>...</th>\n",
       "      <td>...</td>\n",
       "    </tr>\n",
       "    <tr>\n",
       "      <th>ffd8d5a7-91bc-48e1-a692-c26fca8a8ead</th>\n",
       "      <th>click</th>\n",
       "      <td>29</td>\n",
       "    </tr>\n",
       "    <tr>\n",
       "      <th>fff38ca0-8043-50cd-a5f1-f65ebb7105c5</th>\n",
       "      <th>click</th>\n",
       "      <td>1</td>\n",
       "    </tr>\n",
       "    <tr>\n",
       "      <th>fff84c0e-90a1-59d8-9997-adc909d50e16</th>\n",
       "      <th>click</th>\n",
       "      <td>1</td>\n",
       "    </tr>\n",
       "    <tr>\n",
       "      <th>fffc17a7-f935-5d3e-bd3e-d761fd80d479</th>\n",
       "      <th>click</th>\n",
       "      <td>1</td>\n",
       "    </tr>\n",
       "    <tr>\n",
       "      <th>fffd0045-29de-522b-b5d8-35786363bf07</th>\n",
       "      <th>click</th>\n",
       "      <td>1</td>\n",
       "    </tr>\n",
       "  </tbody>\n",
       "</table>\n",
       "<p>2246 rows × 1 columns</p>\n",
       "</div>"
      ],
      "text/plain": [
       "                                            count\n",
       "linkid                               event       \n",
       "00126b32-0c35-507b-981c-02c80d2aa8e7 click      2\n",
       "004b9724-abca-5481-b6e9-6148a7ca00a5 click      1\n",
       "0063a982-41cd-5629-96d0-e1c4dd72ea11 click      2\n",
       "006af6a0-1f0d-4b0c-93bf-756af9071c06 click      8\n",
       "00759b81-3f04-4a61-b934-f8fb3185f4a0 click      3\n",
       "...                                           ...\n",
       "ffd8d5a7-91bc-48e1-a692-c26fca8a8ead click     29\n",
       "fff38ca0-8043-50cd-a5f1-f65ebb7105c5 click      1\n",
       "fff84c0e-90a1-59d8-9997-adc909d50e16 click      1\n",
       "fffc17a7-f935-5d3e-bd3e-d761fd80d479 click      1\n",
       "fffd0045-29de-522b-b5d8-35786363bf07 click      1\n",
       "\n",
       "[2246 rows x 1 columns]"
      ]
     },
     "execution_count": 204,
     "metadata": {},
     "output_type": "execute_result"
    }
   ],
   "source": [
    "link_c = pd.DataFrame(df[df.event =='click'].groupby('linkid')['event'].value_counts())\n",
    "link_c"
   ]
  },
  {
   "cell_type": "code",
   "execution_count": 205,
   "id": "b800dae5",
   "metadata": {},
   "outputs": [
    {
     "data": {
      "text/html": [
       "<div>\n",
       "<style scoped>\n",
       "    .dataframe tbody tr th:only-of-type {\n",
       "        vertical-align: middle;\n",
       "    }\n",
       "\n",
       "    .dataframe tbody tr th {\n",
       "        vertical-align: top;\n",
       "    }\n",
       "\n",
       "    .dataframe thead th {\n",
       "        text-align: right;\n",
       "    }\n",
       "</style>\n",
       "<table border=\"1\" class=\"dataframe\">\n",
       "  <thead>\n",
       "    <tr style=\"text-align: right;\">\n",
       "      <th></th>\n",
       "      <th></th>\n",
       "      <th>count</th>\n",
       "    </tr>\n",
       "    <tr>\n",
       "      <th>linkid</th>\n",
       "      <th>event</th>\n",
       "      <th></th>\n",
       "    </tr>\n",
       "  </thead>\n",
       "  <tbody>\n",
       "    <tr>\n",
       "      <th>00073307-ae96-5089-a117-4783afb42f8e</th>\n",
       "      <th>pageview</th>\n",
       "      <td>2</td>\n",
       "    </tr>\n",
       "    <tr>\n",
       "      <th>00126b32-0c35-507b-981c-02c80d2aa8e7</th>\n",
       "      <th>pageview</th>\n",
       "      <td>2</td>\n",
       "    </tr>\n",
       "    <tr>\n",
       "      <th>0018cfff-50a1-5984-9715-01ef2d11a49a</th>\n",
       "      <th>pageview</th>\n",
       "      <td>1</td>\n",
       "    </tr>\n",
       "    <tr>\n",
       "      <th>0033934b-5d16-5a06-af58-d087bcdd3680</th>\n",
       "      <th>pageview</th>\n",
       "      <td>1</td>\n",
       "    </tr>\n",
       "    <tr>\n",
       "      <th>0034d6cf-3bd8-5ffe-aafc-b3959fc48608</th>\n",
       "      <th>pageview</th>\n",
       "      <td>1</td>\n",
       "    </tr>\n",
       "    <tr>\n",
       "      <th>...</th>\n",
       "      <th>...</th>\n",
       "      <td>...</td>\n",
       "    </tr>\n",
       "    <tr>\n",
       "      <th>fff38ca0-8043-50cd-a5f1-f65ebb7105c5</th>\n",
       "      <th>pageview</th>\n",
       "      <td>1</td>\n",
       "    </tr>\n",
       "    <tr>\n",
       "      <th>fff4e5f0-4ee5-5fe7-aa30-e870edaf6ed7</th>\n",
       "      <th>pageview</th>\n",
       "      <td>2</td>\n",
       "    </tr>\n",
       "    <tr>\n",
       "      <th>fff84c0e-90a1-59d8-9997-adc909d50e16</th>\n",
       "      <th>pageview</th>\n",
       "      <td>1</td>\n",
       "    </tr>\n",
       "    <tr>\n",
       "      <th>fffc17a7-f935-5d3e-bd3e-d761fd80d479</th>\n",
       "      <th>pageview</th>\n",
       "      <td>2</td>\n",
       "    </tr>\n",
       "    <tr>\n",
       "      <th>fffd0045-29de-522b-b5d8-35786363bf07</th>\n",
       "      <th>pageview</th>\n",
       "      <td>2</td>\n",
       "    </tr>\n",
       "  </tbody>\n",
       "</table>\n",
       "<p>3820 rows × 1 columns</p>\n",
       "</div>"
      ],
      "text/plain": [
       "                                               count\n",
       "linkid                               event          \n",
       "00073307-ae96-5089-a117-4783afb42f8e pageview      2\n",
       "00126b32-0c35-507b-981c-02c80d2aa8e7 pageview      2\n",
       "0018cfff-50a1-5984-9715-01ef2d11a49a pageview      1\n",
       "0033934b-5d16-5a06-af58-d087bcdd3680 pageview      1\n",
       "0034d6cf-3bd8-5ffe-aafc-b3959fc48608 pageview      1\n",
       "...                                              ...\n",
       "fff38ca0-8043-50cd-a5f1-f65ebb7105c5 pageview      1\n",
       "fff4e5f0-4ee5-5fe7-aa30-e870edaf6ed7 pageview      2\n",
       "fff84c0e-90a1-59d8-9997-adc909d50e16 pageview      1\n",
       "fffc17a7-f935-5d3e-bd3e-d761fd80d479 pageview      2\n",
       "fffd0045-29de-522b-b5d8-35786363bf07 pageview      2\n",
       "\n",
       "[3820 rows x 1 columns]"
      ]
     },
     "execution_count": 205,
     "metadata": {},
     "output_type": "execute_result"
    }
   ],
   "source": [
    "link_p = pd.DataFrame(df[df.event =='pageview'].groupby('linkid')['event'].value_counts())\n",
    "link_p"
   ]
  },
  {
   "cell_type": "code",
   "execution_count": 207,
   "id": "f8133b7f",
   "metadata": {},
   "outputs": [],
   "source": [
    "merged = pd.merge(link_c, link_p, on='linkid')"
   ]
  },
  {
   "cell_type": "code",
   "execution_count": 208,
   "id": "cc0910a4",
   "metadata": {},
   "outputs": [],
   "source": [
    "merged['click_rate'] = merged['count_x']/merged['count_y']"
   ]
  },
  {
   "cell_type": "code",
   "execution_count": 209,
   "id": "61646459",
   "metadata": {},
   "outputs": [
    {
     "data": {
      "text/html": [
       "<div>\n",
       "<style scoped>\n",
       "    .dataframe tbody tr th:only-of-type {\n",
       "        vertical-align: middle;\n",
       "    }\n",
       "\n",
       "    .dataframe tbody tr th {\n",
       "        vertical-align: top;\n",
       "    }\n",
       "\n",
       "    .dataframe thead th {\n",
       "        text-align: right;\n",
       "    }\n",
       "</style>\n",
       "<table border=\"1\" class=\"dataframe\">\n",
       "  <thead>\n",
       "    <tr style=\"text-align: right;\">\n",
       "      <th></th>\n",
       "      <th>count_x</th>\n",
       "      <th>count_y</th>\n",
       "      <th>click_rate</th>\n",
       "    </tr>\n",
       "    <tr>\n",
       "      <th>linkid</th>\n",
       "      <th></th>\n",
       "      <th></th>\n",
       "      <th></th>\n",
       "    </tr>\n",
       "  </thead>\n",
       "  <tbody>\n",
       "    <tr>\n",
       "      <th>00126b32-0c35-507b-981c-02c80d2aa8e7</th>\n",
       "      <td>2</td>\n",
       "      <td>2</td>\n",
       "      <td>1.000000</td>\n",
       "    </tr>\n",
       "    <tr>\n",
       "      <th>004b9724-abca-5481-b6e9-6148a7ca00a5</th>\n",
       "      <td>1</td>\n",
       "      <td>1</td>\n",
       "      <td>1.000000</td>\n",
       "    </tr>\n",
       "    <tr>\n",
       "      <th>0063a982-41cd-5629-96d0-e1c4dd72ea11</th>\n",
       "      <td>2</td>\n",
       "      <td>3</td>\n",
       "      <td>0.666667</td>\n",
       "    </tr>\n",
       "    <tr>\n",
       "      <th>006af6a0-1f0d-4b0c-93bf-756af9071c06</th>\n",
       "      <td>8</td>\n",
       "      <td>36</td>\n",
       "      <td>0.222222</td>\n",
       "    </tr>\n",
       "    <tr>\n",
       "      <th>00759b81-3f04-4a61-b934-f8fb3185f4a0</th>\n",
       "      <td>3</td>\n",
       "      <td>4</td>\n",
       "      <td>0.750000</td>\n",
       "    </tr>\n",
       "    <tr>\n",
       "      <th>...</th>\n",
       "      <td>...</td>\n",
       "      <td>...</td>\n",
       "      <td>...</td>\n",
       "    </tr>\n",
       "    <tr>\n",
       "      <th>ffd8d5a7-91bc-48e1-a692-c26fca8a8ead</th>\n",
       "      <td>29</td>\n",
       "      <td>84</td>\n",
       "      <td>0.345238</td>\n",
       "    </tr>\n",
       "    <tr>\n",
       "      <th>fff38ca0-8043-50cd-a5f1-f65ebb7105c5</th>\n",
       "      <td>1</td>\n",
       "      <td>1</td>\n",
       "      <td>1.000000</td>\n",
       "    </tr>\n",
       "    <tr>\n",
       "      <th>fff84c0e-90a1-59d8-9997-adc909d50e16</th>\n",
       "      <td>1</td>\n",
       "      <td>1</td>\n",
       "      <td>1.000000</td>\n",
       "    </tr>\n",
       "    <tr>\n",
       "      <th>fffc17a7-f935-5d3e-bd3e-d761fd80d479</th>\n",
       "      <td>1</td>\n",
       "      <td>2</td>\n",
       "      <td>0.500000</td>\n",
       "    </tr>\n",
       "    <tr>\n",
       "      <th>fffd0045-29de-522b-b5d8-35786363bf07</th>\n",
       "      <td>1</td>\n",
       "      <td>2</td>\n",
       "      <td>0.500000</td>\n",
       "    </tr>\n",
       "  </tbody>\n",
       "</table>\n",
       "<p>2244 rows × 3 columns</p>\n",
       "</div>"
      ],
      "text/plain": [
       "                                      count_x  count_y  click_rate\n",
       "linkid                                                            \n",
       "00126b32-0c35-507b-981c-02c80d2aa8e7        2        2    1.000000\n",
       "004b9724-abca-5481-b6e9-6148a7ca00a5        1        1    1.000000\n",
       "0063a982-41cd-5629-96d0-e1c4dd72ea11        2        3    0.666667\n",
       "006af6a0-1f0d-4b0c-93bf-756af9071c06        8       36    0.222222\n",
       "00759b81-3f04-4a61-b934-f8fb3185f4a0        3        4    0.750000\n",
       "...                                       ...      ...         ...\n",
       "ffd8d5a7-91bc-48e1-a692-c26fca8a8ead       29       84    0.345238\n",
       "fff38ca0-8043-50cd-a5f1-f65ebb7105c5        1        1    1.000000\n",
       "fff84c0e-90a1-59d8-9997-adc909d50e16        1        1    1.000000\n",
       "fffc17a7-f935-5d3e-bd3e-d761fd80d479        1        2    0.500000\n",
       "fffd0045-29de-522b-b5d8-35786363bf07        1        2    0.500000\n",
       "\n",
       "[2244 rows x 3 columns]"
      ]
     },
     "execution_count": 209,
     "metadata": {},
     "output_type": "execute_result"
    }
   ],
   "source": [
    "merged"
   ]
  },
  {
   "cell_type": "markdown",
   "id": "61055bc8",
   "metadata": {},
   "source": [
    "### 6. Is there any correlation between clicks and previews on a link? Is it significant? How large is the effect?  \n",
    "\n",
    "Make sure to at least test for potential linear as well as categorical (think binary) relationships between both variables"
   ]
  },
  {
   "cell_type": "code",
   "execution_count": 215,
   "id": "4a6f5b13",
   "metadata": {},
   "outputs": [
    {
     "data": {
      "text/html": [
       "<div>\n",
       "<style scoped>\n",
       "    .dataframe tbody tr th:only-of-type {\n",
       "        vertical-align: middle;\n",
       "    }\n",
       "\n",
       "    .dataframe tbody tr th {\n",
       "        vertical-align: top;\n",
       "    }\n",
       "\n",
       "    .dataframe thead th {\n",
       "        text-align: right;\n",
       "    }\n",
       "</style>\n",
       "<table border=\"1\" class=\"dataframe\">\n",
       "  <thead>\n",
       "    <tr style=\"text-align: right;\">\n",
       "      <th></th>\n",
       "      <th></th>\n",
       "      <th>count</th>\n",
       "    </tr>\n",
       "    <tr>\n",
       "      <th>linkid</th>\n",
       "      <th>event</th>\n",
       "      <th></th>\n",
       "    </tr>\n",
       "  </thead>\n",
       "  <tbody>\n",
       "    <tr>\n",
       "      <th>006af6a0-1f0d-4b0c-93bf-756af9071c06</th>\n",
       "      <th>preview</th>\n",
       "      <td>11</td>\n",
       "    </tr>\n",
       "    <tr>\n",
       "      <th>00759b81-3f04-4a61-b934-f8fb3185f4a0</th>\n",
       "      <th>preview</th>\n",
       "      <td>1</td>\n",
       "    </tr>\n",
       "    <tr>\n",
       "      <th>00829040-ee01-4409-966d-d67c7965144a</th>\n",
       "      <th>preview</th>\n",
       "      <td>9</td>\n",
       "    </tr>\n",
       "    <tr>\n",
       "      <th>00de7566-f014-4d20-8616-82e4dea45b88</th>\n",
       "      <th>preview</th>\n",
       "      <td>1</td>\n",
       "    </tr>\n",
       "    <tr>\n",
       "      <th>0211bf4d-0e9d-46c2-889c-f97872280820</th>\n",
       "      <th>preview</th>\n",
       "      <td>141</td>\n",
       "    </tr>\n",
       "    <tr>\n",
       "      <th>...</th>\n",
       "      <th>...</th>\n",
       "      <td>...</td>\n",
       "    </tr>\n",
       "    <tr>\n",
       "      <th>fd647d87-4c7a-4dd1-92c6-0e7dd7fdf4f1</th>\n",
       "      <th>preview</th>\n",
       "      <td>101</td>\n",
       "    </tr>\n",
       "    <tr>\n",
       "      <th>fe24ad63-e347-40db-8e75-94e573bd3d9b</th>\n",
       "      <th>preview</th>\n",
       "      <td>1</td>\n",
       "    </tr>\n",
       "    <tr>\n",
       "      <th>fe8a3fcd-7beb-4db0-8494-5238e1e1cab3</th>\n",
       "      <th>preview</th>\n",
       "      <td>57</td>\n",
       "    </tr>\n",
       "    <tr>\n",
       "      <th>fe8f7a23-be9d-49a6-b9b5-d26823c3f911</th>\n",
       "      <th>preview</th>\n",
       "      <td>22</td>\n",
       "    </tr>\n",
       "    <tr>\n",
       "      <th>ffd8d5a7-91bc-48e1-a692-c26fca8a8ead</th>\n",
       "      <th>preview</th>\n",
       "      <td>21</td>\n",
       "    </tr>\n",
       "  </tbody>\n",
       "</table>\n",
       "<p>495 rows × 1 columns</p>\n",
       "</div>"
      ],
      "text/plain": [
       "                                              count\n",
       "linkid                               event         \n",
       "006af6a0-1f0d-4b0c-93bf-756af9071c06 preview     11\n",
       "00759b81-3f04-4a61-b934-f8fb3185f4a0 preview      1\n",
       "00829040-ee01-4409-966d-d67c7965144a preview      9\n",
       "00de7566-f014-4d20-8616-82e4dea45b88 preview      1\n",
       "0211bf4d-0e9d-46c2-889c-f97872280820 preview    141\n",
       "...                                             ...\n",
       "fd647d87-4c7a-4dd1-92c6-0e7dd7fdf4f1 preview    101\n",
       "fe24ad63-e347-40db-8e75-94e573bd3d9b preview      1\n",
       "fe8a3fcd-7beb-4db0-8494-5238e1e1cab3 preview     57\n",
       "fe8f7a23-be9d-49a6-b9b5-d26823c3f911 preview     22\n",
       "ffd8d5a7-91bc-48e1-a692-c26fca8a8ead preview     21\n",
       "\n",
       "[495 rows x 1 columns]"
      ]
     },
     "execution_count": 215,
     "metadata": {},
     "output_type": "execute_result"
    }
   ],
   "source": [
    "link_pr = pd.DataFrame(df[df.event =='preview'].groupby('linkid')['event'].value_counts())\n",
    "link_pr"
   ]
  },
  {
   "cell_type": "code",
   "execution_count": 216,
   "id": "4cf16a2e",
   "metadata": {},
   "outputs": [],
   "source": [
    "merged = pd.merge(merged, link_pr, on='linkid')"
   ]
  },
  {
   "cell_type": "code",
   "execution_count": 217,
   "id": "40ce7f69",
   "metadata": {},
   "outputs": [
    {
     "data": {
      "text/html": [
       "<div>\n",
       "<style scoped>\n",
       "    .dataframe tbody tr th:only-of-type {\n",
       "        vertical-align: middle;\n",
       "    }\n",
       "\n",
       "    .dataframe tbody tr th {\n",
       "        vertical-align: top;\n",
       "    }\n",
       "\n",
       "    .dataframe thead th {\n",
       "        text-align: right;\n",
       "    }\n",
       "</style>\n",
       "<table border=\"1\" class=\"dataframe\">\n",
       "  <thead>\n",
       "    <tr style=\"text-align: right;\">\n",
       "      <th></th>\n",
       "      <th>count_x</th>\n",
       "      <th>count_y</th>\n",
       "      <th>click_rate</th>\n",
       "      <th>count</th>\n",
       "    </tr>\n",
       "    <tr>\n",
       "      <th>linkid</th>\n",
       "      <th></th>\n",
       "      <th></th>\n",
       "      <th></th>\n",
       "      <th></th>\n",
       "    </tr>\n",
       "  </thead>\n",
       "  <tbody>\n",
       "    <tr>\n",
       "      <th>006af6a0-1f0d-4b0c-93bf-756af9071c06</th>\n",
       "      <td>8</td>\n",
       "      <td>36</td>\n",
       "      <td>0.222222</td>\n",
       "      <td>11</td>\n",
       "    </tr>\n",
       "    <tr>\n",
       "      <th>00759b81-3f04-4a61-b934-f8fb3185f4a0</th>\n",
       "      <td>3</td>\n",
       "      <td>4</td>\n",
       "      <td>0.750000</td>\n",
       "      <td>1</td>\n",
       "    </tr>\n",
       "    <tr>\n",
       "      <th>00829040-ee01-4409-966d-d67c7965144a</th>\n",
       "      <td>22</td>\n",
       "      <td>39</td>\n",
       "      <td>0.564103</td>\n",
       "      <td>9</td>\n",
       "    </tr>\n",
       "    <tr>\n",
       "      <th>00de7566-f014-4d20-8616-82e4dea45b88</th>\n",
       "      <td>1</td>\n",
       "      <td>5</td>\n",
       "      <td>0.200000</td>\n",
       "      <td>1</td>\n",
       "    </tr>\n",
       "    <tr>\n",
       "      <th>0211bf4d-0e9d-46c2-889c-f97872280820</th>\n",
       "      <td>123</td>\n",
       "      <td>563</td>\n",
       "      <td>0.218472</td>\n",
       "      <td>141</td>\n",
       "    </tr>\n",
       "    <tr>\n",
       "      <th>...</th>\n",
       "      <td>...</td>\n",
       "      <td>...</td>\n",
       "      <td>...</td>\n",
       "      <td>...</td>\n",
       "    </tr>\n",
       "    <tr>\n",
       "      <th>fd647d87-4c7a-4dd1-92c6-0e7dd7fdf4f1</th>\n",
       "      <td>271</td>\n",
       "      <td>652</td>\n",
       "      <td>0.415644</td>\n",
       "      <td>101</td>\n",
       "    </tr>\n",
       "    <tr>\n",
       "      <th>fe24ad63-e347-40db-8e75-94e573bd3d9b</th>\n",
       "      <td>9</td>\n",
       "      <td>17</td>\n",
       "      <td>0.529412</td>\n",
       "      <td>1</td>\n",
       "    </tr>\n",
       "    <tr>\n",
       "      <th>fe8a3fcd-7beb-4db0-8494-5238e1e1cab3</th>\n",
       "      <td>118</td>\n",
       "      <td>405</td>\n",
       "      <td>0.291358</td>\n",
       "      <td>57</td>\n",
       "    </tr>\n",
       "    <tr>\n",
       "      <th>fe8f7a23-be9d-49a6-b9b5-d26823c3f911</th>\n",
       "      <td>37</td>\n",
       "      <td>91</td>\n",
       "      <td>0.406593</td>\n",
       "      <td>22</td>\n",
       "    </tr>\n",
       "    <tr>\n",
       "      <th>ffd8d5a7-91bc-48e1-a692-c26fca8a8ead</th>\n",
       "      <td>29</td>\n",
       "      <td>84</td>\n",
       "      <td>0.345238</td>\n",
       "      <td>21</td>\n",
       "    </tr>\n",
       "  </tbody>\n",
       "</table>\n",
       "<p>464 rows × 4 columns</p>\n",
       "</div>"
      ],
      "text/plain": [
       "                                      count_x  count_y  click_rate  count\n",
       "linkid                                                                   \n",
       "006af6a0-1f0d-4b0c-93bf-756af9071c06        8       36    0.222222     11\n",
       "00759b81-3f04-4a61-b934-f8fb3185f4a0        3        4    0.750000      1\n",
       "00829040-ee01-4409-966d-d67c7965144a       22       39    0.564103      9\n",
       "00de7566-f014-4d20-8616-82e4dea45b88        1        5    0.200000      1\n",
       "0211bf4d-0e9d-46c2-889c-f97872280820      123      563    0.218472    141\n",
       "...                                       ...      ...         ...    ...\n",
       "fd647d87-4c7a-4dd1-92c6-0e7dd7fdf4f1      271      652    0.415644    101\n",
       "fe24ad63-e347-40db-8e75-94e573bd3d9b        9       17    0.529412      1\n",
       "fe8a3fcd-7beb-4db0-8494-5238e1e1cab3      118      405    0.291358     57\n",
       "fe8f7a23-be9d-49a6-b9b5-d26823c3f911       37       91    0.406593     22\n",
       "ffd8d5a7-91bc-48e1-a692-c26fca8a8ead       29       84    0.345238     21\n",
       "\n",
       "[464 rows x 4 columns]"
      ]
     },
     "execution_count": 217,
     "metadata": {},
     "output_type": "execute_result"
    }
   ],
   "source": [
    "merged"
   ]
  },
  {
   "cell_type": "code",
   "execution_count": 218,
   "id": "3cbfdd7c",
   "metadata": {},
   "outputs": [
    {
     "data": {
      "text/plain": [
       "0.9934221977837883"
      ]
     },
     "execution_count": 218,
     "metadata": {},
     "output_type": "execute_result"
    }
   ],
   "source": [
    "merged['count_x'].corr(merged['count']) #click and preview"
   ]
  },
  {
   "cell_type": "code",
   "execution_count": 220,
   "id": "286ebec2",
   "metadata": {},
   "outputs": [
    {
     "name": "stdout",
     "output_type": "stream",
     "text": [
      "Pearson correlation coefficient: 0.9934221977837862\n",
      "Pearson p-value: 0.0\n"
     ]
    }
   ],
   "source": [
    "from scipy.stats import pearsonr, pointbiserialr\n",
    "\n",
    "# Calculate Pearson correlation coefficient for clicks and previews\n",
    "pearson_corr, pearson_p_value = pearsonr(merged['count_x'], merged['count'])\n",
    "\n",
    "# Calculate point-biserial correlation for binary relationship\n",
    "binary_corr, binary_p_value = pointbiserialr(merged['count_x'], merged['count'] > 0)\n",
    "\n",
    "# Display the results\n",
    "print(\"Pearson correlation coefficient:\", pearson_corr)\n",
    "print(\"Pearson p-value:\", pearson_p_value)"
   ]
  },
  {
   "cell_type": "markdown",
   "id": "4214f791",
   "metadata": {},
   "source": [
    "### From the above results we can conclude that there is a strong correlation between the clicks and previews for a link as they are dependent events."
   ]
  },
  {
   "cell_type": "code",
   "execution_count": 225,
   "id": "4f578e4f",
   "metadata": {},
   "outputs": [
    {
     "name": "stdout",
     "output_type": "stream",
     "text": [
      "            country_en   city_en  artist_en  album_en  track_en\n",
      "country_en    1.000000  0.188101   0.010852  0.006472  0.005394\n",
      "city_en       0.188101  1.000000   0.088732  0.095431  0.097308\n",
      "artist_en     0.010852  0.088732   1.000000  0.901881  0.875746\n",
      "album_en      0.006472  0.095431   0.901881  1.000000  0.963166\n",
      "track_en      0.005394  0.097308   0.875746  0.963166  1.000000\n"
     ]
    }
   ],
   "source": [
    "# Encode categorical variables into numerical format using pd.factorize()\n",
    "df['country_en'] = pd.factorize(df['country'])[0]\n",
    "df['city_en'] = pd.factorize(df['city'])[0]\n",
    "df['artist_en'] = pd.factorize(df['artist'])[0]\n",
    "df['album_en'] = pd.factorize(df['album'])[0]\n",
    "df['track_en'] = pd.factorize(df['track'])[0]\n",
    "\n",
    "# Display the encoded DataFrame\n",
    "# print(df[['country_encoded', 'city_encoded', 'artist_encoded', 'album_encoded', 'track_encoded']])\n",
    "\n",
    "# Calculate correlation matrix\n",
    "correlation_matrix = df[['country_en', 'city_en', 'artist_en', 'album_en', 'track_en']].corr()\n",
    "\n",
    "# Display correlation matrix\n",
    "print(correlation_matrix)"
   ]
  },
  {
   "cell_type": "code",
   "execution_count": 228,
   "id": "c1363fbe",
   "metadata": {},
   "outputs": [
    {
     "data": {
      "image/png": "[encoded data removed]",
      "text/plain": [
       "<Figure size 640x480 with 2 Axes>"
      ]
     },
     "metadata": {},
     "output_type": "display_data"
    }
   ],
   "source": [
    "# plotting correlation heatmap \n",
    "dataplot = sb.heatmap(correlation_matrix, cmap=\"YlGnBu\", annot=True) \n",
    "  \n",
    "# displaying heatmap \n",
    "plt.show() "
   ]
  },
  {
   "cell_type": "markdown",
   "id": "3f6172f9",
   "metadata": {},
   "source": [
    "We can observe the correlation between the categorical variables from the above heatmap. "
   ]
  },
  {
   "cell_type": "code",
   "execution_count": null,
   "id": "803c6c74",
   "metadata": {},
   "outputs": [],
   "source": []
  }
 ],
 "metadata": {
  "kernelspec": {
   "display_name": "Python 3 (ipykernel)",
   "language": "python",
   "name": "python3"
  },
  "language_info": {
   "codemirror_mode": {
    "name": "ipython",
    "version": 3
   },
   "file_extension": ".py",
   "mimetype": "text/x-python",
   "name": "python",
   "nbconvert_exporter": "python",
   "pygments_lexer": "ipython3",
   "version": "3.9.6"
  }
 },
 "nbformat": 4,
 "nbformat_minor": 5
}
